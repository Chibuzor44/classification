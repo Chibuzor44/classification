{
 "cells": [
  {
   "cell_type": "code",
   "execution_count": 104,
   "metadata": {},
   "outputs": [
    {
     "data": {
      "text/html": [
       "<style>.container { width:100% !important; }</style>"
      ],
      "text/plain": [
       "<IPython.core.display.HTML object>"
      ]
     },
     "metadata": {},
     "output_type": "display_data"
    }
   ],
   "source": [
    "from IPython.core.display import display, HTML\n",
    "display(HTML(\"<style>.container { width:100% !important; }</style>\"))"
   ]
  },
  {
   "cell_type": "code",
   "execution_count": 105,
   "metadata": {},
   "outputs": [
    {
     "name": "stdout",
     "output_type": "stream",
     "text": [
      "The autoreload extension is already loaded. To reload it, use:\n",
      "  %reload_ext autoreload\n"
     ]
    }
   ],
   "source": [
    "%load_ext autoreload\n",
    "%autoreload 2\n",
    "import pandas as pd\n",
    "import numpy as np\n",
    "import matplotlib.pyplot as plt\n",
    "from collections import Counter\n",
    "from sklearn.model_selection import train_test_split\n",
    "import scikitplot as skplt\n",
    "from sklearn.ensemble import GradientBoostingClassifier\n",
    "from sklearn.preprocessing import StandardScaler \n",
    "from sklearn.pipeline import Pipeline\n",
    "from sklearn.svm import SVC\n",
    "from sklearn.model_selection import GridSearchCV\n",
    "from imblearn.over_sampling import SMOTE\n",
    "import util\n",
    "\n",
    "% matplotlib inline\n",
    "plt.style.use(\"ggplot\")"
   ]
  },
  {
   "cell_type": "markdown",
   "metadata": {},
   "source": [
    "### Exploratory Data Analysis"
   ]
  },
  {
   "cell_type": "code",
   "execution_count": 106,
   "metadata": {
    "collapsed": true
   },
   "outputs": [],
   "source": [
    "#Loading data \n",
    "df = pd.read_csv(\"data/exercise_01_train.csv\")"
   ]
  },
  {
   "cell_type": "code",
   "execution_count": 107,
   "metadata": {},
   "outputs": [
    {
     "data": {
      "text/html": [
       "<div>\n",
       "<style scoped>\n",
       "    .dataframe tbody tr th:only-of-type {\n",
       "        vertical-align: middle;\n",
       "    }\n",
       "\n",
       "    .dataframe tbody tr th {\n",
       "        vertical-align: top;\n",
       "    }\n",
       "\n",
       "    .dataframe thead th {\n",
       "        text-align: right;\n",
       "    }\n",
       "</style>\n",
       "<table border=\"1\" class=\"dataframe\">\n",
       "  <thead>\n",
       "    <tr style=\"text-align: right;\">\n",
       "      <th></th>\n",
       "      <th>x0</th>\n",
       "      <th>x1</th>\n",
       "      <th>x2</th>\n",
       "      <th>x3</th>\n",
       "      <th>x4</th>\n",
       "      <th>x5</th>\n",
       "      <th>x6</th>\n",
       "      <th>x7</th>\n",
       "      <th>x8</th>\n",
       "      <th>x9</th>\n",
       "      <th>...</th>\n",
       "      <th>x91</th>\n",
       "      <th>x92</th>\n",
       "      <th>x93</th>\n",
       "      <th>x94</th>\n",
       "      <th>x95</th>\n",
       "      <th>x96</th>\n",
       "      <th>x97</th>\n",
       "      <th>x98</th>\n",
       "      <th>x99</th>\n",
       "      <th>y</th>\n",
       "    </tr>\n",
       "  </thead>\n",
       "  <tbody>\n",
       "    <tr>\n",
       "      <th>0</th>\n",
       "      <td>10.142889</td>\n",
       "      <td>-15.675620</td>\n",
       "      <td>3.583176</td>\n",
       "      <td>-22.397489</td>\n",
       "      <td>27.221894</td>\n",
       "      <td>-34.110924</td>\n",
       "      <td>-0.072829</td>\n",
       "      <td>-0.544444</td>\n",
       "      <td>0.997601</td>\n",
       "      <td>-2.691778</td>\n",
       "      <td>...</td>\n",
       "      <td>1.916575</td>\n",
       "      <td>5.240820</td>\n",
       "      <td>euorpe</td>\n",
       "      <td>2.431170</td>\n",
       "      <td>0.454074</td>\n",
       "      <td>-18.572032</td>\n",
       "      <td>-14.291524</td>\n",
       "      <td>0.178579</td>\n",
       "      <td>18.110170</td>\n",
       "      <td>0</td>\n",
       "    </tr>\n",
       "    <tr>\n",
       "      <th>1</th>\n",
       "      <td>-52.214630</td>\n",
       "      <td>5.847135</td>\n",
       "      <td>-10.902843</td>\n",
       "      <td>-14.132351</td>\n",
       "      <td>20.588574</td>\n",
       "      <td>36.107322</td>\n",
       "      <td>0.115023</td>\n",
       "      <td>0.276093</td>\n",
       "      <td>-0.699168</td>\n",
       "      <td>-0.972708</td>\n",
       "      <td>...</td>\n",
       "      <td>0.370941</td>\n",
       "      <td>-3.794542</td>\n",
       "      <td>asia</td>\n",
       "      <td>2.592326</td>\n",
       "      <td>31.921833</td>\n",
       "      <td>3.317139</td>\n",
       "      <td>10.037003</td>\n",
       "      <td>-1.930870</td>\n",
       "      <td>-3.486898</td>\n",
       "      <td>0</td>\n",
       "    </tr>\n",
       "    <tr>\n",
       "      <th>2</th>\n",
       "      <td>67.718500</td>\n",
       "      <td>2.064334</td>\n",
       "      <td>12.394186</td>\n",
       "      <td>-18.667102</td>\n",
       "      <td>47.465504</td>\n",
       "      <td>-50.373658</td>\n",
       "      <td>0.253707</td>\n",
       "      <td>1.068968</td>\n",
       "      <td>2.939713</td>\n",
       "      <td>2.691218</td>\n",
       "      <td>...</td>\n",
       "      <td>1.449817</td>\n",
       "      <td>12.470532</td>\n",
       "      <td>asia</td>\n",
       "      <td>7.143821</td>\n",
       "      <td>9.401490</td>\n",
       "      <td>-10.604968</td>\n",
       "      <td>7.643215</td>\n",
       "      <td>-0.842198</td>\n",
       "      <td>-79.358236</td>\n",
       "      <td>0</td>\n",
       "    </tr>\n",
       "    <tr>\n",
       "      <th>3</th>\n",
       "      <td>-28.003111</td>\n",
       "      <td>8.565128</td>\n",
       "      <td>-8.592092</td>\n",
       "      <td>5.918960</td>\n",
       "      <td>-3.224154</td>\n",
       "      <td>78.315783</td>\n",
       "      <td>-0.879845</td>\n",
       "      <td>1.176889</td>\n",
       "      <td>-2.414752</td>\n",
       "      <td>0.589646</td>\n",
       "      <td>...</td>\n",
       "      <td>-3.274733</td>\n",
       "      <td>3.484450</td>\n",
       "      <td>asia</td>\n",
       "      <td>-4.998195</td>\n",
       "      <td>-20.312810</td>\n",
       "      <td>14.818524</td>\n",
       "      <td>-9.180674</td>\n",
       "      <td>1.356972</td>\n",
       "      <td>14.475681</td>\n",
       "      <td>0</td>\n",
       "    </tr>\n",
       "    <tr>\n",
       "      <th>4</th>\n",
       "      <td>80.703016</td>\n",
       "      <td>30.736353</td>\n",
       "      <td>-30.101857</td>\n",
       "      <td>-21.201140</td>\n",
       "      <td>-91.946233</td>\n",
       "      <td>-47.469246</td>\n",
       "      <td>-0.646831</td>\n",
       "      <td>-0.578398</td>\n",
       "      <td>0.980849</td>\n",
       "      <td>-1.426112</td>\n",
       "      <td>...</td>\n",
       "      <td>-0.644261</td>\n",
       "      <td>4.082783</td>\n",
       "      <td>asia</td>\n",
       "      <td>-0.012556</td>\n",
       "      <td>-29.334324</td>\n",
       "      <td>1.734433</td>\n",
       "      <td>-12.262072</td>\n",
       "      <td>-0.043228</td>\n",
       "      <td>-19.003881</td>\n",
       "      <td>0</td>\n",
       "    </tr>\n",
       "  </tbody>\n",
       "</table>\n",
       "<p>5 rows × 101 columns</p>\n",
       "</div>"
      ],
      "text/plain": [
       "          x0         x1         x2         x3         x4         x5        x6  \\\n",
       "0  10.142889 -15.675620   3.583176 -22.397489  27.221894 -34.110924 -0.072829   \n",
       "1 -52.214630   5.847135 -10.902843 -14.132351  20.588574  36.107322  0.115023   \n",
       "2  67.718500   2.064334  12.394186 -18.667102  47.465504 -50.373658  0.253707   \n",
       "3 -28.003111   8.565128  -8.592092   5.918960  -3.224154  78.315783 -0.879845   \n",
       "4  80.703016  30.736353 -30.101857 -21.201140 -91.946233 -47.469246 -0.646831   \n",
       "\n",
       "         x7        x8        x9 ...       x91        x92     x93       x94  \\\n",
       "0 -0.544444  0.997601 -2.691778 ...  1.916575   5.240820  euorpe  2.431170   \n",
       "1  0.276093 -0.699168 -0.972708 ...  0.370941  -3.794542    asia  2.592326   \n",
       "2  1.068968  2.939713  2.691218 ...  1.449817  12.470532    asia  7.143821   \n",
       "3  1.176889 -2.414752  0.589646 ... -3.274733   3.484450    asia -4.998195   \n",
       "4 -0.578398  0.980849 -1.426112 ... -0.644261   4.082783    asia -0.012556   \n",
       "\n",
       "         x95        x96        x97       x98        x99  y  \n",
       "0   0.454074 -18.572032 -14.291524  0.178579  18.110170  0  \n",
       "1  31.921833   3.317139  10.037003 -1.930870  -3.486898  0  \n",
       "2   9.401490 -10.604968   7.643215 -0.842198 -79.358236  0  \n",
       "3 -20.312810  14.818524  -9.180674  1.356972  14.475681  0  \n",
       "4 -29.334324   1.734433 -12.262072 -0.043228 -19.003881  0  \n",
       "\n",
       "[5 rows x 101 columns]"
      ]
     },
     "execution_count": 107,
     "metadata": {},
     "output_type": "execute_result"
    }
   ],
   "source": [
    "df.head()"
   ]
  },
  {
   "cell_type": "code",
   "execution_count": 108,
   "metadata": {},
   "outputs": [
    {
     "data": {
      "text/html": [
       "<div>\n",
       "<style scoped>\n",
       "    .dataframe tbody tr th:only-of-type {\n",
       "        vertical-align: middle;\n",
       "    }\n",
       "\n",
       "    .dataframe tbody tr th {\n",
       "        vertical-align: top;\n",
       "    }\n",
       "\n",
       "    .dataframe thead th {\n",
       "        text-align: right;\n",
       "    }\n",
       "</style>\n",
       "<table border=\"1\" class=\"dataframe\">\n",
       "  <thead>\n",
       "    <tr style=\"text-align: right;\">\n",
       "      <th></th>\n",
       "      <th>x0</th>\n",
       "      <th>x1</th>\n",
       "      <th>x2</th>\n",
       "      <th>x3</th>\n",
       "      <th>x4</th>\n",
       "      <th>x5</th>\n",
       "      <th>x6</th>\n",
       "      <th>x7</th>\n",
       "      <th>x8</th>\n",
       "      <th>x9</th>\n",
       "      <th>...</th>\n",
       "      <th>x91</th>\n",
       "      <th>x92</th>\n",
       "      <th>x93</th>\n",
       "      <th>x94</th>\n",
       "      <th>x95</th>\n",
       "      <th>x96</th>\n",
       "      <th>x97</th>\n",
       "      <th>x98</th>\n",
       "      <th>x99</th>\n",
       "      <th>y</th>\n",
       "    </tr>\n",
       "  </thead>\n",
       "  <tbody>\n",
       "    <tr>\n",
       "      <th>39995</th>\n",
       "      <td>20.844737</td>\n",
       "      <td>-33.785846</td>\n",
       "      <td>-0.346804</td>\n",
       "      <td>-3.406866</td>\n",
       "      <td>34.771517</td>\n",
       "      <td>-57.951056</td>\n",
       "      <td>-0.288205</td>\n",
       "      <td>1.371940</td>\n",
       "      <td>3.335447</td>\n",
       "      <td>1.765670</td>\n",
       "      <td>...</td>\n",
       "      <td>-2.985304</td>\n",
       "      <td>7.312132</td>\n",
       "      <td>asia</td>\n",
       "      <td>5.964857</td>\n",
       "      <td>-13.061671</td>\n",
       "      <td>-8.062604</td>\n",
       "      <td>16.618593</td>\n",
       "      <td>-3.609543</td>\n",
       "      <td>0.631066</td>\n",
       "      <td>0</td>\n",
       "    </tr>\n",
       "    <tr>\n",
       "      <th>39996</th>\n",
       "      <td>1.666154</td>\n",
       "      <td>16.241028</td>\n",
       "      <td>12.623090</td>\n",
       "      <td>-6.168540</td>\n",
       "      <td>-10.650748</td>\n",
       "      <td>69.840299</td>\n",
       "      <td>-0.965011</td>\n",
       "      <td>-4.321631</td>\n",
       "      <td>3.071324</td>\n",
       "      <td>-0.209940</td>\n",
       "      <td>...</td>\n",
       "      <td>-5.842786</td>\n",
       "      <td>3.563600</td>\n",
       "      <td>asia</td>\n",
       "      <td>4.895863</td>\n",
       "      <td>-1.342384</td>\n",
       "      <td>-10.275539</td>\n",
       "      <td>14.046990</td>\n",
       "      <td>-0.320440</td>\n",
       "      <td>46.051387</td>\n",
       "      <td>0</td>\n",
       "    </tr>\n",
       "    <tr>\n",
       "      <th>39997</th>\n",
       "      <td>1.795836</td>\n",
       "      <td>-15.706685</td>\n",
       "      <td>1.009672</td>\n",
       "      <td>-0.887671</td>\n",
       "      <td>-11.580529</td>\n",
       "      <td>3.237055</td>\n",
       "      <td>0.541397</td>\n",
       "      <td>2.562310</td>\n",
       "      <td>-0.623586</td>\n",
       "      <td>3.300388</td>\n",
       "      <td>...</td>\n",
       "      <td>7.503255</td>\n",
       "      <td>-11.064043</td>\n",
       "      <td>america</td>\n",
       "      <td>6.783607</td>\n",
       "      <td>15.293008</td>\n",
       "      <td>-6.194035</td>\n",
       "      <td>-4.725605</td>\n",
       "      <td>-1.321478</td>\n",
       "      <td>27.836630</td>\n",
       "      <td>0</td>\n",
       "    </tr>\n",
       "    <tr>\n",
       "      <th>39998</th>\n",
       "      <td>50.168318</td>\n",
       "      <td>-4.272643</td>\n",
       "      <td>2.409248</td>\n",
       "      <td>-11.697615</td>\n",
       "      <td>39.234827</td>\n",
       "      <td>31.353302</td>\n",
       "      <td>1.416008</td>\n",
       "      <td>1.825775</td>\n",
       "      <td>2.027886</td>\n",
       "      <td>-3.753114</td>\n",
       "      <td>...</td>\n",
       "      <td>-1.411384</td>\n",
       "      <td>-17.587621</td>\n",
       "      <td>america</td>\n",
       "      <td>6.278226</td>\n",
       "      <td>-18.743967</td>\n",
       "      <td>-8.067506</td>\n",
       "      <td>5.258203</td>\n",
       "      <td>-2.623772</td>\n",
       "      <td>-15.550075</td>\n",
       "      <td>0</td>\n",
       "    </tr>\n",
       "    <tr>\n",
       "      <th>39999</th>\n",
       "      <td>-8.653274</td>\n",
       "      <td>10.572796</td>\n",
       "      <td>1.377445</td>\n",
       "      <td>-21.472814</td>\n",
       "      <td>-42.686853</td>\n",
       "      <td>28.893360</td>\n",
       "      <td>3.379456</td>\n",
       "      <td>-1.241659</td>\n",
       "      <td>-0.040278</td>\n",
       "      <td>0.612898</td>\n",
       "      <td>...</td>\n",
       "      <td>7.622624</td>\n",
       "      <td>-6.473851</td>\n",
       "      <td>asia</td>\n",
       "      <td>0.055730</td>\n",
       "      <td>-6.506186</td>\n",
       "      <td>12.434701</td>\n",
       "      <td>-6.001283</td>\n",
       "      <td>-5.340633</td>\n",
       "      <td>18.276723</td>\n",
       "      <td>1</td>\n",
       "    </tr>\n",
       "  </tbody>\n",
       "</table>\n",
       "<p>5 rows × 101 columns</p>\n",
       "</div>"
      ],
      "text/plain": [
       "              x0         x1         x2         x3         x4         x5  \\\n",
       "39995  20.844737 -33.785846  -0.346804  -3.406866  34.771517 -57.951056   \n",
       "39996   1.666154  16.241028  12.623090  -6.168540 -10.650748  69.840299   \n",
       "39997   1.795836 -15.706685   1.009672  -0.887671 -11.580529   3.237055   \n",
       "39998  50.168318  -4.272643   2.409248 -11.697615  39.234827  31.353302   \n",
       "39999  -8.653274  10.572796   1.377445 -21.472814 -42.686853  28.893360   \n",
       "\n",
       "             x6        x7        x8        x9 ...       x91        x92  \\\n",
       "39995 -0.288205  1.371940  3.335447  1.765670 ... -2.985304   7.312132   \n",
       "39996 -0.965011 -4.321631  3.071324 -0.209940 ... -5.842786   3.563600   \n",
       "39997  0.541397  2.562310 -0.623586  3.300388 ...  7.503255 -11.064043   \n",
       "39998  1.416008  1.825775  2.027886 -3.753114 ... -1.411384 -17.587621   \n",
       "39999  3.379456 -1.241659 -0.040278  0.612898 ...  7.622624  -6.473851   \n",
       "\n",
       "           x93       x94        x95        x96        x97       x98  \\\n",
       "39995     asia  5.964857 -13.061671  -8.062604  16.618593 -3.609543   \n",
       "39996     asia  4.895863  -1.342384 -10.275539  14.046990 -0.320440   \n",
       "39997  america  6.783607  15.293008  -6.194035  -4.725605 -1.321478   \n",
       "39998  america  6.278226 -18.743967  -8.067506   5.258203 -2.623772   \n",
       "39999     asia  0.055730  -6.506186  12.434701  -6.001283 -5.340633   \n",
       "\n",
       "             x99  y  \n",
       "39995   0.631066  0  \n",
       "39996  46.051387  0  \n",
       "39997  27.836630  0  \n",
       "39998 -15.550075  0  \n",
       "39999  18.276723  1  \n",
       "\n",
       "[5 rows x 101 columns]"
      ]
     },
     "execution_count": 108,
     "metadata": {},
     "output_type": "execute_result"
    }
   ],
   "source": [
    "df.tail()"
   ]
  },
  {
   "cell_type": "code",
   "execution_count": 109,
   "metadata": {},
   "outputs": [
    {
     "name": "stdout",
     "output_type": "stream",
     "text": [
      "Number of columns: 101 \n",
      "Number of rows: 40000\n"
     ]
    }
   ],
   "source": [
    "print(\"Number of columns: {} \\nNumber of rows: {}\".format(df.shape[1], df.shape[0]))"
   ]
  },
  {
   "cell_type": "code",
   "execution_count": 110,
   "metadata": {},
   "outputs": [
    {
     "data": {
      "image/png": "[encoded data removed]",
      "text/plain": [
       "<matplotlib.figure.Figure at 0x1a24233e80>"
      ]
     },
     "metadata": {},
     "output_type": "display_data"
    }
   ],
   "source": [
    "# Lets see the distribution of the label\n",
    "df.hist(column=\"y\")\n",
    "plt.show()"
   ]
  },
  {
   "cell_type": "code",
   "execution_count": 111,
   "metadata": {},
   "outputs": [
    {
     "name": "stdout",
     "output_type": "stream",
     "text": [
      "The minority class make up 20% of the data\n",
      "The majority class make up 80% of the data\n"
     ]
    }
   ],
   "source": [
    "y_dict = Counter(df[\"y\"])\n",
    "print(\"The minority class make up {}% of the data\"\n",
    "      .format(round(y_dict[1]/df.shape[0] *100)))\n",
    "\n",
    "print(\"The majority class make up {}% of the data\"\n",
    "      .format(round(y_dict[0]/df.shape[0] *100)))"
   ]
  },
  {
   "cell_type": "code",
   "execution_count": 112,
   "metadata": {
    "collapsed": true
   },
   "outputs": [],
   "source": [
    "# This show the class label is imbalanced and skewed towards the negative class (\"0\" class)"
   ]
  },
  {
   "cell_type": "code",
   "execution_count": 113,
   "metadata": {
    "collapsed": true
   },
   "outputs": [],
   "source": [
    "categorical_cols = util.non_numerical_col(df)"
   ]
  },
  {
   "cell_type": "code",
   "execution_count": 114,
   "metadata": {},
   "outputs": [
    {
     "name": "stdout",
     "output_type": "stream",
     "text": [
      "['bmw' 'nissan' 'Honda' 'Toyota' 'volkswagon' 'tesla' 'chrystler' 'ford'\n",
      " 'mercades' nan 'chevrolet'] \n",
      "\n",
      "['wed' 'thur' 'thurday' 'wednesday' 'friday' 'tuesday' 'monday' 'fri' nan] \n",
      "\n",
      "['$-54.1' '$-229.32' '$243.68' ... '$1215.91' '$-723.78' '$-426.49'] \n",
      "\n",
      "['0.0%' '0.01%' '-0.01%' '0.02%' '-0.02%' '-0.0%' '-0.03%' '0.03%' '0.04%'\n",
      " '-0.04%' nan] \n",
      "\n",
      "['Jun' 'July' 'May' 'Aug' 'Apr' 'Mar' 'Oct' 'sept.' 'Nov' 'Feb' 'Dev' nan\n",
      " 'January'] \n",
      "\n",
      "['euorpe' 'asia' 'america' nan] \n",
      "\n"
     ]
    }
   ],
   "source": [
    "# Taking a look at the contents of categorical features\n",
    "for col in categorical_cols:\n",
    "    print(pd.unique(df[col]), \"\\n\")"
   ]
  },
  {
   "cell_type": "code",
   "execution_count": 115,
   "metadata": {
    "collapsed": true
   },
   "outputs": [],
   "source": [
    "# Looking into the features, these contain car manufacturer, days of the week, \n",
    "# dollar amount, percentage, month of the year, continent. Lets change the the dollar amount \n",
    "# and the percentage attributes to numerical values"
   ]
  },
  {
   "cell_type": "code",
   "execution_count": 116,
   "metadata": {
    "collapsed": true
   },
   "outputs": [],
   "source": [
    "util.regex(df, [\"x41\",\"x45\"])"
   ]
  },
  {
   "cell_type": "code",
   "execution_count": 117,
   "metadata": {},
   "outputs": [
    {
     "data": {
      "text/plain": [
       "numpy.float64"
      ]
     },
     "execution_count": 117,
     "metadata": {},
     "output_type": "execute_result"
    }
   ],
   "source": [
    "type(df[\"x45\"][0])"
   ]
  },
  {
   "cell_type": "code",
   "execution_count": 118,
   "metadata": {
    "collapsed": true
   },
   "outputs": [],
   "source": [
    "# Since there are few unique values in \"x34\", \"x35\", \"x68\" and \"x93\" it is a good idea to turn \n",
    "# them into dummy variables. But before doing that, observe that there are nan values. \n",
    "# Lets also see how much of the data is nan "
   ]
  },
  {
   "cell_type": "code",
   "execution_count": 119,
   "metadata": {
    "collapsed": true
   },
   "outputs": [],
   "source": [
    "region = Counter(df[\"x93\"])\n",
    "cars = Counter(df[\"x34\"])\n",
    "days = Counter(df[\"x35\"])\n",
    "month = Counter(df[\"x68\"])"
   ]
  },
  {
   "cell_type": "code",
   "execution_count": 120,
   "metadata": {},
   "outputs": [
    {
     "name": "stdout",
     "output_type": "stream",
     "text": [
      "Counter({'asia': 35409, 'america': 3136, 'euorpe': 1448, nan: 7}) \n",
      "\n",
      " Counter({'volkswagon': 12572, 'Toyota': 10946, 'bmw': 7304, 'Honda': 5129, 'tesla': 2275, 'chrystler': 1223, 'nissan': 336, 'ford': 165, 'mercades': 32, 'chevrolet': 11, nan: 7}) \n",
      "\n",
      " Counter({'wed': 14834, 'thurday': 13359, 'wednesday': 5891, 'thur': 4374, 'tuesday': 929, 'friday': 526, 'monday': 56, 'fri': 21, nan: 10}) \n",
      "\n",
      " Counter({'July': 11088, 'Jun': 9279, 'Aug': 8155, 'May': 4788, 'sept.': 3466, 'Apr': 1641, 'Oct': 926, 'Mar': 409, 'Nov': 156, 'Feb': 54, 'Dev': 18, 'January': 11, nan: 9})\n"
     ]
    }
   ],
   "source": [
    "print(region,\"\\n\\n\", cars,\"\\n\\n\", days,\"\\n\\n\", month)"
   ]
  },
  {
   "cell_type": "code",
   "execution_count": 121,
   "metadata": {},
   "outputs": [
    {
     "data": {
      "image/png": "[encoded data removed]",
      "text/plain": [
       "<matplotlib.figure.Figure at 0x1a2d376e48>"
      ]
     },
     "metadata": {},
     "output_type": "display_data"
    }
   ],
   "source": [
    "util.plot_cols(region, \"regions\")"
   ]
  },
  {
   "cell_type": "code",
   "execution_count": 122,
   "metadata": {},
   "outputs": [
    {
     "name": "stdout",
     "output_type": "stream",
     "text": [
      "Counter({'asia': 35409, 'america': 3136, 'euorpe': 1448, nan: 7}) \n",
      "\n",
      "88.52% of the data belong to asia category \n",
      "\n",
      "0.0% of the data belong to asia category\n"
     ]
    }
   ],
   "source": [
    "print(region, \"\\n\")\n",
    "print(\"{}% of the data belong to asia category \\n\"\n",
    "      .format(round(region[\"asia\"]/sum(region.values())*100, 2)))\n",
    "print(\"{}% of the data belong to asia category\"\n",
    "      .format(round(region[\"nan\"]/sum(region.values())*100, 9)))"
   ]
  },
  {
   "cell_type": "code",
   "execution_count": 123,
   "metadata": {
    "collapsed": true
   },
   "outputs": [],
   "source": [
    "# Doing the same for the other features"
   ]
  },
  {
   "cell_type": "code",
   "execution_count": 124,
   "metadata": {},
   "outputs": [
    {
     "data": {
      "image/png": "[encoded data removed]",
      "text/plain": [
       "<matplotlib.figure.Figure at 0x1a23813f60>"
      ]
     },
     "metadata": {},
     "output_type": "display_data"
    }
   ],
   "source": [
    "util.plot_cols(cars, \"cars\")"
   ]
  },
  {
   "cell_type": "code",
   "execution_count": 125,
   "metadata": {},
   "outputs": [
    {
     "data": {
      "image/png": "[encoded data removed]",
      "text/plain": [
       "<matplotlib.figure.Figure at 0x1a1f054c88>"
      ]
     },
     "metadata": {},
     "output_type": "display_data"
    }
   ],
   "source": [
    "util.plot_cols(days, \"days\")"
   ]
  },
  {
   "cell_type": "code",
   "execution_count": 126,
   "metadata": {},
   "outputs": [
    {
     "data": {
      "image/png": "[encoded data removed]",
      "text/plain": [
       "<matplotlib.figure.Figure at 0x1a24316400>"
      ]
     },
     "metadata": {},
     "output_type": "display_data"
    }
   ],
   "source": [
    "util.plot_cols(month, \"month\")"
   ]
  },
  {
   "cell_type": "code",
   "execution_count": 127,
   "metadata": {
    "collapsed": true
   },
   "outputs": [],
   "source": [
    "# Notice that in two of the plots, month and days there are duplicates in categories, \n",
    "# there are double entries of the month of january (as jun and January) and double entries \n",
    "# for wednesday/fiday as (wed and wednesday also fri and friday) as well as misspelling in thursday. \n",
    "# These categories will be merged as a single unique category. There are also mixed naming formats \n",
    "# used in days attribute (ie short and full) these will be changed for uniformity "
   ]
  },
  {
   "cell_type": "code",
   "execution_count": 128,
   "metadata": {},
   "outputs": [],
   "source": [
    "util.restructure_cols(df)"
   ]
  },
  {
   "cell_type": "code",
   "execution_count": 129,
   "metadata": {},
   "outputs": [
    {
     "data": {
      "text/plain": [
       "array(['wed', 'thur', 'fri', 'tue', 'mon', nan], dtype=object)"
      ]
     },
     "execution_count": 129,
     "metadata": {},
     "output_type": "execute_result"
    }
   ],
   "source": [
    "pd.unique(df[\"x35\"])"
   ]
  },
  {
   "cell_type": "code",
   "execution_count": 130,
   "metadata": {},
   "outputs": [
    {
     "data": {
      "image/png": "[encoded data removed]",
      "text/plain": [
       "<matplotlib.figure.Figure at 0x1a1f9055c0>"
      ]
     },
     "metadata": {},
     "output_type": "display_data"
    }
   ],
   "source": [
    "# After merging duplicates\n",
    "util.plot_cols(Counter(df[\"x35\"]), \"days\")"
   ]
  },
  {
   "cell_type": "code",
   "execution_count": 131,
   "metadata": {},
   "outputs": [
    {
     "data": {
      "image/png": "[encoded data removed]",
      "text/plain": [
       "<matplotlib.figure.Figure at 0x1a242ea6d8>"
      ]
     },
     "metadata": {},
     "output_type": "display_data"
    }
   ],
   "source": [
    "util.plot_cols(Counter(df[\"x68\"]), \"month\")"
   ]
  },
  {
   "cell_type": "code",
   "execution_count": 132,
   "metadata": {
    "collapsed": true
   },
   "outputs": [],
   "source": [
    "# Now we can make these categorical attributs into one-hot-encoding"
   ]
  },
  {
   "cell_type": "code",
   "execution_count": 163,
   "metadata": {
    "collapsed": true
   },
   "outputs": [],
   "source": [
    "df_dummy = pd.get_dummies(df, prefix=[\"x34\",\"x35\",\"x68\",\"x93\"])"
   ]
  },
  {
   "cell_type": "code",
   "execution_count": 134,
   "metadata": {},
   "outputs": [
    {
     "data": {
      "text/html": [
       "<div>\n",
       "<style scoped>\n",
       "    .dataframe tbody tr th:only-of-type {\n",
       "        vertical-align: middle;\n",
       "    }\n",
       "\n",
       "    .dataframe tbody tr th {\n",
       "        vertical-align: top;\n",
       "    }\n",
       "\n",
       "    .dataframe thead th {\n",
       "        text-align: right;\n",
       "    }\n",
       "</style>\n",
       "<table border=\"1\" class=\"dataframe\">\n",
       "  <thead>\n",
       "    <tr style=\"text-align: right;\">\n",
       "      <th></th>\n",
       "      <th>x0</th>\n",
       "      <th>x1</th>\n",
       "      <th>x2</th>\n",
       "      <th>x3</th>\n",
       "      <th>x4</th>\n",
       "      <th>x5</th>\n",
       "      <th>x6</th>\n",
       "      <th>x7</th>\n",
       "      <th>x8</th>\n",
       "      <th>x9</th>\n",
       "      <th>...</th>\n",
       "      <th>x68_Jul</th>\n",
       "      <th>x68_Jun</th>\n",
       "      <th>x68_Mar</th>\n",
       "      <th>x68_May</th>\n",
       "      <th>x68_Nov</th>\n",
       "      <th>x68_Oct</th>\n",
       "      <th>x68_Sept</th>\n",
       "      <th>x93_america</th>\n",
       "      <th>x93_asia</th>\n",
       "      <th>x93_euorpe</th>\n",
       "    </tr>\n",
       "  </thead>\n",
       "  <tbody>\n",
       "    <tr>\n",
       "      <th>0</th>\n",
       "      <td>10.142889</td>\n",
       "      <td>-15.675620</td>\n",
       "      <td>3.583176</td>\n",
       "      <td>-22.397489</td>\n",
       "      <td>27.221894</td>\n",
       "      <td>-34.110924</td>\n",
       "      <td>-0.072829</td>\n",
       "      <td>-0.544444</td>\n",
       "      <td>0.997601</td>\n",
       "      <td>-2.691778</td>\n",
       "      <td>...</td>\n",
       "      <td>0</td>\n",
       "      <td>1</td>\n",
       "      <td>0</td>\n",
       "      <td>0</td>\n",
       "      <td>0</td>\n",
       "      <td>0</td>\n",
       "      <td>0</td>\n",
       "      <td>0</td>\n",
       "      <td>0</td>\n",
       "      <td>1</td>\n",
       "    </tr>\n",
       "    <tr>\n",
       "      <th>1</th>\n",
       "      <td>-52.214630</td>\n",
       "      <td>5.847135</td>\n",
       "      <td>-10.902843</td>\n",
       "      <td>-14.132351</td>\n",
       "      <td>20.588574</td>\n",
       "      <td>36.107322</td>\n",
       "      <td>0.115023</td>\n",
       "      <td>0.276093</td>\n",
       "      <td>-0.699168</td>\n",
       "      <td>-0.972708</td>\n",
       "      <td>...</td>\n",
       "      <td>1</td>\n",
       "      <td>0</td>\n",
       "      <td>0</td>\n",
       "      <td>0</td>\n",
       "      <td>0</td>\n",
       "      <td>0</td>\n",
       "      <td>0</td>\n",
       "      <td>0</td>\n",
       "      <td>1</td>\n",
       "      <td>0</td>\n",
       "    </tr>\n",
       "    <tr>\n",
       "      <th>2</th>\n",
       "      <td>67.718500</td>\n",
       "      <td>2.064334</td>\n",
       "      <td>12.394186</td>\n",
       "      <td>-18.667102</td>\n",
       "      <td>47.465504</td>\n",
       "      <td>-50.373658</td>\n",
       "      <td>0.253707</td>\n",
       "      <td>1.068968</td>\n",
       "      <td>2.939713</td>\n",
       "      <td>2.691218</td>\n",
       "      <td>...</td>\n",
       "      <td>1</td>\n",
       "      <td>0</td>\n",
       "      <td>0</td>\n",
       "      <td>0</td>\n",
       "      <td>0</td>\n",
       "      <td>0</td>\n",
       "      <td>0</td>\n",
       "      <td>0</td>\n",
       "      <td>1</td>\n",
       "      <td>0</td>\n",
       "    </tr>\n",
       "    <tr>\n",
       "      <th>3</th>\n",
       "      <td>-28.003111</td>\n",
       "      <td>8.565128</td>\n",
       "      <td>-8.592092</td>\n",
       "      <td>5.918960</td>\n",
       "      <td>-3.224154</td>\n",
       "      <td>78.315783</td>\n",
       "      <td>-0.879845</td>\n",
       "      <td>1.176889</td>\n",
       "      <td>-2.414752</td>\n",
       "      <td>0.589646</td>\n",
       "      <td>...</td>\n",
       "      <td>0</td>\n",
       "      <td>0</td>\n",
       "      <td>0</td>\n",
       "      <td>1</td>\n",
       "      <td>0</td>\n",
       "      <td>0</td>\n",
       "      <td>0</td>\n",
       "      <td>0</td>\n",
       "      <td>1</td>\n",
       "      <td>0</td>\n",
       "    </tr>\n",
       "    <tr>\n",
       "      <th>4</th>\n",
       "      <td>80.703016</td>\n",
       "      <td>30.736353</td>\n",
       "      <td>-30.101857</td>\n",
       "      <td>-21.201140</td>\n",
       "      <td>-91.946233</td>\n",
       "      <td>-47.469246</td>\n",
       "      <td>-0.646831</td>\n",
       "      <td>-0.578398</td>\n",
       "      <td>0.980849</td>\n",
       "      <td>-1.426112</td>\n",
       "      <td>...</td>\n",
       "      <td>1</td>\n",
       "      <td>0</td>\n",
       "      <td>0</td>\n",
       "      <td>0</td>\n",
       "      <td>0</td>\n",
       "      <td>0</td>\n",
       "      <td>0</td>\n",
       "      <td>0</td>\n",
       "      <td>1</td>\n",
       "      <td>0</td>\n",
       "    </tr>\n",
       "  </tbody>\n",
       "</table>\n",
       "<p>5 rows × 126 columns</p>\n",
       "</div>"
      ],
      "text/plain": [
       "          x0         x1         x2         x3         x4         x5        x6  \\\n",
       "0  10.142889 -15.675620   3.583176 -22.397489  27.221894 -34.110924 -0.072829   \n",
       "1 -52.214630   5.847135 -10.902843 -14.132351  20.588574  36.107322  0.115023   \n",
       "2  67.718500   2.064334  12.394186 -18.667102  47.465504 -50.373658  0.253707   \n",
       "3 -28.003111   8.565128  -8.592092   5.918960  -3.224154  78.315783 -0.879845   \n",
       "4  80.703016  30.736353 -30.101857 -21.201140 -91.946233 -47.469246 -0.646831   \n",
       "\n",
       "         x7        x8        x9     ...      x68_Jul  x68_Jun  x68_Mar  \\\n",
       "0 -0.544444  0.997601 -2.691778     ...            0        1        0   \n",
       "1  0.276093 -0.699168 -0.972708     ...            1        0        0   \n",
       "2  1.068968  2.939713  2.691218     ...            1        0        0   \n",
       "3  1.176889 -2.414752  0.589646     ...            0        0        0   \n",
       "4 -0.578398  0.980849 -1.426112     ...            1        0        0   \n",
       "\n",
       "   x68_May  x68_Nov  x68_Oct  x68_Sept  x93_america  x93_asia  x93_euorpe  \n",
       "0        0        0        0         0            0         0           1  \n",
       "1        0        0        0         0            0         1           0  \n",
       "2        0        0        0         0            0         1           0  \n",
       "3        1        0        0         0            0         1           0  \n",
       "4        0        0        0         0            0         1           0  \n",
       "\n",
       "[5 rows x 126 columns]"
      ]
     },
     "execution_count": 134,
     "metadata": {},
     "output_type": "execute_result"
    }
   ],
   "source": [
    "df_dummy.head()"
   ]
  },
  {
   "cell_type": "code",
   "execution_count": 135,
   "metadata": {},
   "outputs": [
    {
     "data": {
      "text/plain": [
       "(40000, 126)"
      ]
     },
     "execution_count": 135,
     "metadata": {},
     "output_type": "execute_result"
    }
   ],
   "source": [
    "df_dummy.shape"
   ]
  },
  {
   "cell_type": "code",
   "execution_count": 136,
   "metadata": {
    "collapsed": true
   },
   "outputs": [],
   "source": [
    "# Creating one-hot-encoding have added 25 more features to the data\n",
    "# Now the entire data is numerical, we can determine what subset from the feature will be relevant to a good model\n",
    "# We can start by checking how much each feature correlates with the the label"
   ]
  },
  {
   "cell_type": "code",
   "execution_count": 137,
   "metadata": {
    "collapsed": true
   },
   "outputs": [],
   "source": [
    "df_corr = df_dummy.copy().corr()\n",
    "df_na = df_dummy.copy()"
   ]
  },
  {
   "cell_type": "code",
   "execution_count": 138,
   "metadata": {},
   "outputs": [
    {
     "data": {
      "text/html": [
       "<div>\n",
       "<style scoped>\n",
       "    .dataframe tbody tr th:only-of-type {\n",
       "        vertical-align: middle;\n",
       "    }\n",
       "\n",
       "    .dataframe tbody tr th {\n",
       "        vertical-align: top;\n",
       "    }\n",
       "\n",
       "    .dataframe thead th {\n",
       "        text-align: right;\n",
       "    }\n",
       "</style>\n",
       "<table border=\"1\" class=\"dataframe\">\n",
       "  <thead>\n",
       "    <tr style=\"text-align: right;\">\n",
       "      <th></th>\n",
       "      <th>x0</th>\n",
       "      <th>x1</th>\n",
       "      <th>x2</th>\n",
       "      <th>x3</th>\n",
       "      <th>x4</th>\n",
       "      <th>x5</th>\n",
       "      <th>x6</th>\n",
       "      <th>x7</th>\n",
       "      <th>x8</th>\n",
       "      <th>x9</th>\n",
       "      <th>...</th>\n",
       "      <th>x68_Jul</th>\n",
       "      <th>x68_Jun</th>\n",
       "      <th>x68_Mar</th>\n",
       "      <th>x68_May</th>\n",
       "      <th>x68_Nov</th>\n",
       "      <th>x68_Oct</th>\n",
       "      <th>x68_Sept</th>\n",
       "      <th>x93_america</th>\n",
       "      <th>x93_asia</th>\n",
       "      <th>x93_euorpe</th>\n",
       "    </tr>\n",
       "  </thead>\n",
       "  <tbody>\n",
       "    <tr>\n",
       "      <th>x68_Oct</th>\n",
       "      <td>0.112879</td>\n",
       "      <td>-0.025157</td>\n",
       "      <td>-0.068854</td>\n",
       "      <td>-0.073669</td>\n",
       "      <td>-0.000956</td>\n",
       "      <td>0.014476</td>\n",
       "      <td>-0.004334</td>\n",
       "      <td>-0.000688</td>\n",
       "      <td>0.067641</td>\n",
       "      <td>0.001672</td>\n",
       "      <td>...</td>\n",
       "      <td>-0.095334</td>\n",
       "      <td>-0.084670</td>\n",
       "      <td>-0.015647</td>\n",
       "      <td>-0.056767</td>\n",
       "      <td>-0.009633</td>\n",
       "      <td>1.000000</td>\n",
       "      <td>-0.047416</td>\n",
       "      <td>0.008289</td>\n",
       "      <td>-0.001939</td>\n",
       "      <td>-0.008474</td>\n",
       "    </tr>\n",
       "    <tr>\n",
       "      <th>x68_Sept</th>\n",
       "      <td>0.150365</td>\n",
       "      <td>-0.036598</td>\n",
       "      <td>-0.094202</td>\n",
       "      <td>-0.098149</td>\n",
       "      <td>-0.007896</td>\n",
       "      <td>0.006901</td>\n",
       "      <td>0.000032</td>\n",
       "      <td>0.002633</td>\n",
       "      <td>0.089547</td>\n",
       "      <td>-0.001965</td>\n",
       "      <td>...</td>\n",
       "      <td>-0.190745</td>\n",
       "      <td>-0.169408</td>\n",
       "      <td>-0.031306</td>\n",
       "      <td>-0.113579</td>\n",
       "      <td>-0.019273</td>\n",
       "      <td>-0.047416</td>\n",
       "      <td>1.000000</td>\n",
       "      <td>0.005047</td>\n",
       "      <td>-0.002005</td>\n",
       "      <td>-0.003554</td>\n",
       "    </tr>\n",
       "    <tr>\n",
       "      <th>x93_america</th>\n",
       "      <td>-0.002837</td>\n",
       "      <td>0.004870</td>\n",
       "      <td>-0.005386</td>\n",
       "      <td>-0.000074</td>\n",
       "      <td>-0.008254</td>\n",
       "      <td>0.002762</td>\n",
       "      <td>0.006983</td>\n",
       "      <td>0.005911</td>\n",
       "      <td>-0.006394</td>\n",
       "      <td>0.008608</td>\n",
       "      <td>...</td>\n",
       "      <td>-0.009620</td>\n",
       "      <td>-0.001175</td>\n",
       "      <td>-0.000985</td>\n",
       "      <td>0.000178</td>\n",
       "      <td>-0.000344</td>\n",
       "      <td>0.008289</td>\n",
       "      <td>0.005047</td>\n",
       "      <td>1.000000</td>\n",
       "      <td>-0.810009</td>\n",
       "      <td>-0.056526</td>\n",
       "    </tr>\n",
       "    <tr>\n",
       "      <th>x93_asia</th>\n",
       "      <td>0.002733</td>\n",
       "      <td>-0.005581</td>\n",
       "      <td>0.003540</td>\n",
       "      <td>-0.001718</td>\n",
       "      <td>0.006708</td>\n",
       "      <td>-0.000033</td>\n",
       "      <td>-0.001783</td>\n",
       "      <td>-0.005009</td>\n",
       "      <td>0.005605</td>\n",
       "      <td>-0.008206</td>\n",
       "      <td>...</td>\n",
       "      <td>0.011324</td>\n",
       "      <td>-0.001809</td>\n",
       "      <td>0.002294</td>\n",
       "      <td>-0.000594</td>\n",
       "      <td>0.001139</td>\n",
       "      <td>-0.001939</td>\n",
       "      <td>-0.002005</td>\n",
       "      <td>-0.810009</td>\n",
       "      <td>1.000000</td>\n",
       "      <td>-0.538225</td>\n",
       "    </tr>\n",
       "    <tr>\n",
       "      <th>x93_euorpe</th>\n",
       "      <td>0.000018</td>\n",
       "      <td>0.002518</td>\n",
       "      <td>0.001768</td>\n",
       "      <td>0.003200</td>\n",
       "      <td>0.000079</td>\n",
       "      <td>-0.003590</td>\n",
       "      <td>-0.007008</td>\n",
       "      <td>0.000188</td>\n",
       "      <td>-0.000856</td>\n",
       "      <td>0.001120</td>\n",
       "      <td>...</td>\n",
       "      <td>-0.005497</td>\n",
       "      <td>0.004977</td>\n",
       "      <td>-0.002402</td>\n",
       "      <td>0.000690</td>\n",
       "      <td>-0.001390</td>\n",
       "      <td>-0.008474</td>\n",
       "      <td>-0.003554</td>\n",
       "      <td>-0.056526</td>\n",
       "      <td>-0.538225</td>\n",
       "      <td>1.000000</td>\n",
       "    </tr>\n",
       "  </tbody>\n",
       "</table>\n",
       "<p>5 rows × 126 columns</p>\n",
       "</div>"
      ],
      "text/plain": [
       "                   x0        x1        x2        x3        x4        x5  \\\n",
       "x68_Oct      0.112879 -0.025157 -0.068854 -0.073669 -0.000956  0.014476   \n",
       "x68_Sept     0.150365 -0.036598 -0.094202 -0.098149 -0.007896  0.006901   \n",
       "x93_america -0.002837  0.004870 -0.005386 -0.000074 -0.008254  0.002762   \n",
       "x93_asia     0.002733 -0.005581  0.003540 -0.001718  0.006708 -0.000033   \n",
       "x93_euorpe   0.000018  0.002518  0.001768  0.003200  0.000079 -0.003590   \n",
       "\n",
       "                   x6        x7        x8        x9     ...       x68_Jul  \\\n",
       "x68_Oct     -0.004334 -0.000688  0.067641  0.001672     ...     -0.095334   \n",
       "x68_Sept     0.000032  0.002633  0.089547 -0.001965     ...     -0.190745   \n",
       "x93_america  0.006983  0.005911 -0.006394  0.008608     ...     -0.009620   \n",
       "x93_asia    -0.001783 -0.005009  0.005605 -0.008206     ...      0.011324   \n",
       "x93_euorpe  -0.007008  0.000188 -0.000856  0.001120     ...     -0.005497   \n",
       "\n",
       "              x68_Jun   x68_Mar   x68_May   x68_Nov   x68_Oct  x68_Sept  \\\n",
       "x68_Oct     -0.084670 -0.015647 -0.056767 -0.009633  1.000000 -0.047416   \n",
       "x68_Sept    -0.169408 -0.031306 -0.113579 -0.019273 -0.047416  1.000000   \n",
       "x93_america -0.001175 -0.000985  0.000178 -0.000344  0.008289  0.005047   \n",
       "x93_asia    -0.001809  0.002294 -0.000594  0.001139 -0.001939 -0.002005   \n",
       "x93_euorpe   0.004977 -0.002402  0.000690 -0.001390 -0.008474 -0.003554   \n",
       "\n",
       "             x93_america  x93_asia  x93_euorpe  \n",
       "x68_Oct         0.008289 -0.001939   -0.008474  \n",
       "x68_Sept        0.005047 -0.002005   -0.003554  \n",
       "x93_america     1.000000 -0.810009   -0.056526  \n",
       "x93_asia       -0.810009  1.000000   -0.538225  \n",
       "x93_euorpe     -0.056526 -0.538225    1.000000  \n",
       "\n",
       "[5 rows x 126 columns]"
      ]
     },
     "execution_count": 138,
     "metadata": {},
     "output_type": "execute_result"
    }
   ],
   "source": [
    "df_corr.tail()"
   ]
  },
  {
   "cell_type": "code",
   "execution_count": 139,
   "metadata": {
    "collapsed": true
   },
   "outputs": [],
   "source": [
    "# There are multiple features in the data and we will not create \n",
    "# individual vizualization to see the correlation. To understand the \n",
    "# correlation, we will select correlation value of each feature with the label "
   ]
  },
  {
   "cell_type": "code",
   "execution_count": 140,
   "metadata": {
    "collapsed": true
   },
   "outputs": [],
   "source": [
    "df_y = df_corr.loc[[\"y\"],:]"
   ]
  },
  {
   "cell_type": "code",
   "execution_count": 141,
   "metadata": {},
   "outputs": [
    {
     "data": {
      "text/html": [
       "<div>\n",
       "<style scoped>\n",
       "    .dataframe tbody tr th:only-of-type {\n",
       "        vertical-align: middle;\n",
       "    }\n",
       "\n",
       "    .dataframe tbody tr th {\n",
       "        vertical-align: top;\n",
       "    }\n",
       "\n",
       "    .dataframe thead th {\n",
       "        text-align: right;\n",
       "    }\n",
       "</style>\n",
       "<table border=\"1\" class=\"dataframe\">\n",
       "  <thead>\n",
       "    <tr style=\"text-align: right;\">\n",
       "      <th></th>\n",
       "      <th>y</th>\n",
       "      <th>x58</th>\n",
       "      <th>x97</th>\n",
       "      <th>x1</th>\n",
       "      <th>x99</th>\n",
       "      <th>x79</th>\n",
       "      <th>x63</th>\n",
       "      <th>x72</th>\n",
       "      <th>x69</th>\n",
       "      <th>x78</th>\n",
       "      <th>...</th>\n",
       "      <th>x96</th>\n",
       "      <th>x21</th>\n",
       "      <th>x50</th>\n",
       "      <th>x66</th>\n",
       "      <th>x3</th>\n",
       "      <th>x22</th>\n",
       "      <th>x70</th>\n",
       "      <th>x41</th>\n",
       "      <th>x37</th>\n",
       "      <th>x75</th>\n",
       "    </tr>\n",
       "  </thead>\n",
       "  <tbody>\n",
       "    <tr>\n",
       "      <th>y</th>\n",
       "      <td>1.0</td>\n",
       "      <td>0.18666</td>\n",
       "      <td>0.184344</td>\n",
       "      <td>0.101217</td>\n",
       "      <td>0.098397</td>\n",
       "      <td>0.09582</td>\n",
       "      <td>0.095792</td>\n",
       "      <td>0.095313</td>\n",
       "      <td>0.095173</td>\n",
       "      <td>0.094825</td>\n",
       "      <td>...</td>\n",
       "      <td>-0.091515</td>\n",
       "      <td>-0.092892</td>\n",
       "      <td>-0.093171</td>\n",
       "      <td>-0.096199</td>\n",
       "      <td>-0.096704</td>\n",
       "      <td>-0.097655</td>\n",
       "      <td>-0.104042</td>\n",
       "      <td>-0.181519</td>\n",
       "      <td>-0.195297</td>\n",
       "      <td>-0.2105</td>\n",
       "    </tr>\n",
       "  </tbody>\n",
       "</table>\n",
       "<p>1 rows × 126 columns</p>\n",
       "</div>"
      ],
      "text/plain": [
       "     y      x58       x97        x1       x99      x79       x63       x72  \\\n",
       "y  1.0  0.18666  0.184344  0.101217  0.098397  0.09582  0.095792  0.095313   \n",
       "\n",
       "        x69       x78   ...         x96       x21       x50       x66  \\\n",
       "y  0.095173  0.094825   ...   -0.091515 -0.092892 -0.093171 -0.096199   \n",
       "\n",
       "         x3       x22       x70       x41       x37     x75  \n",
       "y -0.096704 -0.097655 -0.104042 -0.181519 -0.195297 -0.2105  \n",
       "\n",
       "[1 rows x 126 columns]"
      ]
     },
     "execution_count": 141,
     "metadata": {},
     "output_type": "execute_result"
    }
   ],
   "source": [
    "# Sorting by positive correlation\n",
    "df_y[df_y.iloc[-1,:].sort_values(ascending=False).index]"
   ]
  },
  {
   "cell_type": "code",
   "execution_count": 142,
   "metadata": {},
   "outputs": [
    {
     "data": {
      "text/html": [
       "<div>\n",
       "<style scoped>\n",
       "    .dataframe tbody tr th:only-of-type {\n",
       "        vertical-align: middle;\n",
       "    }\n",
       "\n",
       "    .dataframe tbody tr th {\n",
       "        vertical-align: top;\n",
       "    }\n",
       "\n",
       "    .dataframe thead th {\n",
       "        text-align: right;\n",
       "    }\n",
       "</style>\n",
       "<table border=\"1\" class=\"dataframe\">\n",
       "  <thead>\n",
       "    <tr style=\"text-align: right;\">\n",
       "      <th></th>\n",
       "      <th>x75</th>\n",
       "      <th>x37</th>\n",
       "      <th>x41</th>\n",
       "      <th>x70</th>\n",
       "      <th>x22</th>\n",
       "      <th>x3</th>\n",
       "      <th>x66</th>\n",
       "      <th>x50</th>\n",
       "      <th>x21</th>\n",
       "      <th>x96</th>\n",
       "      <th>...</th>\n",
       "      <th>x78</th>\n",
       "      <th>x69</th>\n",
       "      <th>x72</th>\n",
       "      <th>x63</th>\n",
       "      <th>x79</th>\n",
       "      <th>x99</th>\n",
       "      <th>x1</th>\n",
       "      <th>x97</th>\n",
       "      <th>x58</th>\n",
       "      <th>y</th>\n",
       "    </tr>\n",
       "  </thead>\n",
       "  <tbody>\n",
       "    <tr>\n",
       "      <th>y</th>\n",
       "      <td>-0.2105</td>\n",
       "      <td>-0.195297</td>\n",
       "      <td>-0.181519</td>\n",
       "      <td>-0.104042</td>\n",
       "      <td>-0.097655</td>\n",
       "      <td>-0.096704</td>\n",
       "      <td>-0.096199</td>\n",
       "      <td>-0.093171</td>\n",
       "      <td>-0.092892</td>\n",
       "      <td>-0.091515</td>\n",
       "      <td>...</td>\n",
       "      <td>0.094825</td>\n",
       "      <td>0.095173</td>\n",
       "      <td>0.095313</td>\n",
       "      <td>0.095792</td>\n",
       "      <td>0.09582</td>\n",
       "      <td>0.098397</td>\n",
       "      <td>0.101217</td>\n",
       "      <td>0.184344</td>\n",
       "      <td>0.18666</td>\n",
       "      <td>1.0</td>\n",
       "    </tr>\n",
       "  </tbody>\n",
       "</table>\n",
       "<p>1 rows × 126 columns</p>\n",
       "</div>"
      ],
      "text/plain": [
       "      x75       x37       x41       x70       x22        x3       x66  \\\n",
       "y -0.2105 -0.195297 -0.181519 -0.104042 -0.097655 -0.096704 -0.096199   \n",
       "\n",
       "        x50       x21       x96 ...        x78       x69       x72       x63  \\\n",
       "y -0.093171 -0.092892 -0.091515 ...   0.094825  0.095173  0.095313  0.095792   \n",
       "\n",
       "       x79       x99        x1       x97      x58    y  \n",
       "y  0.09582  0.098397  0.101217  0.184344  0.18666  1.0  \n",
       "\n",
       "[1 rows x 126 columns]"
      ]
     },
     "execution_count": 142,
     "metadata": {},
     "output_type": "execute_result"
    }
   ],
   "source": [
    "# Sorting by negative correlation\n",
    "df_y[df_y.iloc[-1,:].sort_values(ascending=True).index]"
   ]
  },
  {
   "cell_type": "code",
   "execution_count": 143,
   "metadata": {
    "collapsed": true
   },
   "outputs": [],
   "source": [
    "# Generally there is a week correlation both positively and negatively. \n",
    "# The feature with the most correction correlation x75 has a correlation value \n",
    "# of -0.2105 which is a weak correlation value.  "
   ]
  },
  {
   "cell_type": "code",
   "execution_count": null,
   "metadata": {
    "collapsed": true
   },
   "outputs": [],
   "source": []
  },
  {
   "cell_type": "code",
   "execution_count": 164,
   "metadata": {},
   "outputs": [
    {
     "name": "stdout",
     "output_type": "stream",
     "text": [
      "Data having null values: 768 rows\n",
      "Data lost by dropping null data 1.92%\n"
     ]
    }
   ],
   "source": [
    "# Now lets see how much null values are in the data\n",
    "df_copy = df_dummy.copy()\n",
    "df_dummy.dropna(inplace=True)\n",
    "diff = df_copy.shape[0]-df_dummy.shape[0]\n",
    "print(\"Data having null values: {} rows\".format(diff))\n",
    "print(\"Data lost by dropping null data {}%\".format(round((diff/df_copy.shape[0])*100, 2)))"
   ]
  },
  {
   "cell_type": "markdown",
   "metadata": {},
   "source": [
    "#### Lets try resampling the data to balance the dataset"
   ]
  },
  {
   "cell_type": "markdown",
   "metadata": {},
   "source": [
    "The data is not a large dataset, undersampling the data will lead to loss of information. The better approach will be oversampling the minority class to the same amount of the majority class. A good technique for this is using SMOTE algorithm to generate synthetic data.\n",
    "\n",
    "Since we do not know much about the features in the data besides the categorical features there is no clear cut way of making any assumptions about the NaN. Dropping NaN in the data should not have much impact on the model since observations with NaN only make up 2% of the data."
   ]
  },
  {
   "cell_type": "code",
   "execution_count": 43,
   "metadata": {
    "collapsed": true
   },
   "outputs": [],
   "source": []
  },
  {
   "cell_type": "code",
   "execution_count": 169,
   "metadata": {
    "collapsed": true
   },
   "outputs": [],
   "source": [
    "data = df_dummy.copy()\n",
    "y = data.pop(\"y\")\n",
    "X = data.values"
   ]
  },
  {
   "cell_type": "code",
   "execution_count": 170,
   "metadata": {
    "collapsed": true
   },
   "outputs": [],
   "source": [
    "X_train, X_test, y_train, y_test = train_test_split(X, y,\n",
    "                                                    test_size=0.25, \n",
    "                                                    random_state=1)"
   ]
  },
  {
   "cell_type": "code",
   "execution_count": 171,
   "metadata": {},
   "outputs": [
    {
     "name": "stdout",
     "output_type": "stream",
     "text": [
      "Original dataset shape {1: 5915, 0: 23509}\n"
     ]
    }
   ],
   "source": [
    "print(\"Original dataset shape {}\".format(dict(Counter(y_train))))"
   ]
  },
  {
   "cell_type": "code",
   "execution_count": 172,
   "metadata": {
    "collapsed": true
   },
   "outputs": [],
   "source": [
    "sm = SMOTE(random_state=1)"
   ]
  },
  {
   "cell_type": "code",
   "execution_count": 173,
   "metadata": {
    "collapsed": true
   },
   "outputs": [],
   "source": [
    "X_train_res, y_train_res = sm.fit_resample(X_train, y_train)"
   ]
  },
  {
   "cell_type": "code",
   "execution_count": 174,
   "metadata": {},
   "outputs": [
    {
     "name": "stdout",
     "output_type": "stream",
     "text": [
      "Resampled dataset shape {1: 23509, 0: 23509}\n"
     ]
    }
   ],
   "source": [
    "print(\"Resampled dataset shape {}\".format(dict(Counter(y_train_res))))"
   ]
  },
  {
   "cell_type": "code",
   "execution_count": null,
   "metadata": {
    "collapsed": true
   },
   "outputs": [],
   "source": []
  },
  {
   "cell_type": "code",
   "execution_count": 176,
   "metadata": {
    "collapsed": true
   },
   "outputs": [],
   "source": [
    "# Now that we have prepared the data we can now start building a model"
   ]
  },
  {
   "cell_type": "markdown",
   "metadata": {},
   "source": [
    "#### GradientBoosting Classifier"
   ]
  },
  {
   "cell_type": "code",
   "execution_count": 177,
   "metadata": {},
   "outputs": [
    {
     "data": {
      "text/plain": [
       "GradientBoostingClassifier(criterion='friedman_mse', init=None,\n",
       "              learning_rate=0.1, loss='deviance', max_depth=3,\n",
       "              max_features=None, max_leaf_nodes=None,\n",
       "              min_impurity_decrease=0.0, min_impurity_split=None,\n",
       "              min_samples_leaf=1, min_samples_split=2,\n",
       "              min_weight_fraction_leaf=0.0, n_estimators=100,\n",
       "              n_iter_no_change=None, presort='auto', random_state=None,\n",
       "              subsample=1.0, tol=0.0001, validation_fraction=0.1,\n",
       "              verbose=0, warm_start=False)"
      ]
     },
     "execution_count": 177,
     "metadata": {},
     "output_type": "execute_result"
    }
   ],
   "source": [
    "gb = GradientBoostingClassifier()\n",
    "gb.fit(X_train_res, y_train_res)"
   ]
  },
  {
   "cell_type": "code",
   "execution_count": 178,
   "metadata": {
    "collapsed": true
   },
   "outputs": [],
   "source": [
    "y_pred_gb = gb.predict(X_test)"
   ]
  },
  {
   "cell_type": "code",
   "execution_count": 179,
   "metadata": {
    "collapsed": true
   },
   "outputs": [],
   "source": [
    "precision_gb, recall_gb, accuracy_gb, matrix_gb = util.metric(y_test, y_pred_gb)"
   ]
  },
  {
   "cell_type": "code",
   "execution_count": 180,
   "metadata": {},
   "outputs": [
    {
     "data": {
      "text/plain": [
       "array([[1310,  277],\n",
       "       [ 660, 7561]])"
      ]
     },
     "execution_count": 180,
     "metadata": {},
     "output_type": "execute_result"
    }
   ],
   "source": [
    "# Confusion matrix\n",
    "matrix_gb"
   ]
  },
  {
   "cell_type": "code",
   "execution_count": 181,
   "metadata": {},
   "outputs": [
    {
     "name": "stdout",
     "output_type": "stream",
     "text": [
      "Recall: 0.66\n",
      "Precision: 0.83\n"
     ]
    }
   ],
   "source": [
    "print(\"Recall: {}\".format(round(recall_gb,2)))\n",
    "print(\"Precision: {}\".format(round(precision_gb,2)))"
   ]
  },
  {
   "cell_type": "code",
   "execution_count": null,
   "metadata": {
    "collapsed": true
   },
   "outputs": [],
   "source": []
  },
  {
   "cell_type": "code",
   "execution_count": 183,
   "metadata": {
    "collapsed": true
   },
   "outputs": [],
   "source": [
    "# See that the model still favours the negative class. This is probably as a result of the model \n",
    "# latching on some features due to their magnitude as the data is unscaled. Lets scale the data and perform a grid search"
   ]
  },
  {
   "cell_type": "code",
   "execution_count": 184,
   "metadata": {},
   "outputs": [],
   "source": [
    "scaler = StandardScaler()\n",
    "X_scaled = scaler.fit_transform(X_train_res)"
   ]
  },
  {
   "cell_type": "code",
   "execution_count": 185,
   "metadata": {},
   "outputs": [
    {
     "data": {
      "text/plain": [
       "GradientBoostingClassifier(criterion='friedman_mse', init=None,\n",
       "              learning_rate=0.1, loss='deviance', max_depth=3,\n",
       "              max_features=None, max_leaf_nodes=None,\n",
       "              min_impurity_decrease=0.0, min_impurity_split=None,\n",
       "              min_samples_leaf=1, min_samples_split=2,\n",
       "              min_weight_fraction_leaf=0.0, n_estimators=100,\n",
       "              n_iter_no_change=None, presort='auto', random_state=None,\n",
       "              subsample=1.0, tol=0.0001, validation_fraction=0.1,\n",
       "              verbose=0, warm_start=False)"
      ]
     },
     "execution_count": 185,
     "metadata": {},
     "output_type": "execute_result"
    }
   ],
   "source": [
    "gb3 = GradientBoostingClassifier()\n",
    "gb3.fit(X_scaled, y_train_res)"
   ]
  },
  {
   "cell_type": "code",
   "execution_count": 191,
   "metadata": {
    "collapsed": true
   },
   "outputs": [],
   "source": [
    "X_test_scaled = scaler.transform(X_test)\n",
    "y_pred_gb3 = gb3.predict(X_test_scaled)"
   ]
  },
  {
   "cell_type": "code",
   "execution_count": 192,
   "metadata": {
    "collapsed": true
   },
   "outputs": [],
   "source": [
    "precision_gb3, recall_gb3, accuracy_gb3, matrix_gb3 = util.metric(y_test, y_pred_gb3)"
   ]
  },
  {
   "cell_type": "code",
   "execution_count": 193,
   "metadata": {},
   "outputs": [
    {
     "data": {
      "text/plain": [
       "array([[1310,  277],\n",
       "       [ 660, 7561]])"
      ]
     },
     "execution_count": 193,
     "metadata": {},
     "output_type": "execute_result"
    }
   ],
   "source": [
    "# Confusion matrix\n",
    "matrix_gb3"
   ]
  },
  {
   "cell_type": "code",
   "execution_count": 194,
   "metadata": {
    "scrolled": true
   },
   "outputs": [
    {
     "name": "stdout",
     "output_type": "stream",
     "text": [
      "Recall: 0.66\n",
      "Precision: 0.83\n"
     ]
    }
   ],
   "source": [
    "print(\"Recall: {}\".format(round(recall_gb3,2)))\n",
    "print(\"Precision: {}\".format(round(precision_gb3,2)))"
   ]
  },
  {
   "cell_type": "code",
   "execution_count": 203,
   "metadata": {
    "collapsed": true
   },
   "outputs": [],
   "source": [
    "#predicted probabilities\n",
    "scores = gb3.predict_proba(X_test_scaled)"
   ]
  },
  {
   "cell_type": "code",
   "execution_count": 204,
   "metadata": {},
   "outputs": [
    {
     "data": {
      "image/png": "[encoded data removed]",
      "text/plain": [
       "<matplotlib.figure.Figure at 0x1a2d3760f0>"
      ]
     },
     "metadata": {},
     "output_type": "display_data"
    }
   ],
   "source": [
    "_=skplt.metrics.plot_roc(y_test, scores, \n",
    "                         classes_to_plot=[1], plot_micro=False, \n",
    "                         plot_macro=False, figsize=(10,8))"
   ]
  },
  {
   "cell_type": "markdown",
   "metadata": {
    "collapsed": true
   },
   "source": [
    "### GridSearch for Gradient Boosting"
   ]
  },
  {
   "cell_type": "code",
   "execution_count": 197,
   "metadata": {},
   "outputs": [
    {
     "name": "stderr",
     "output_type": "stream",
     "text": [
      "/anaconda3/lib/python3.6/site-packages/sklearn/model_selection/_split.py:2053: FutureWarning: You should specify a value for 'cv' instead of relying on the default value. The default value will change from 3 to 5 in version 0.22.\n",
      "  warnings.warn(CV_WARNING, FutureWarning)\n"
     ]
    },
    {
     "data": {
      "text/plain": [
       "GridSearchCV(cv='warn', error_score='raise-deprecating',\n",
       "       estimator=GradientBoostingClassifier(criterion='friedman_mse', init=None,\n",
       "              learning_rate=0.1, loss='deviance', max_depth=3,\n",
       "              max_features=None, max_leaf_nodes=None,\n",
       "              min_impurity_decrease=0.0, min_impurity_split=None,\n",
       "              min_samples_leaf=1, min_sampl...      subsample=1.0, tol=0.0001, validation_fraction=0.1,\n",
       "              verbose=0, warm_start=False),\n",
       "       fit_params=None, iid='warn', n_jobs=-1,\n",
       "       param_grid={'learning_rate': [0.6, 0.8], 'n_estimators': [200, 300, 400, 500, 600], 'max_depth': [2, 3, 5], 'max_features': ['log2', 'sqrt'], 'criterion': ['friedman_mse']},\n",
       "       pre_dispatch='2*n_jobs', refit=True, return_train_score='warn',\n",
       "       scoring=None, verbose=0)"
      ]
     },
     "execution_count": 197,
     "metadata": {},
     "output_type": "execute_result"
    }
   ],
   "source": [
    "gb4 = GradientBoostingClassifier()\n",
    "\n",
    "param_grid4 = {\"learning_rate\": [0.6,0.8],\n",
    "               \"n_estimators\":[200, 300, 400, 500, 600],\n",
    "                \"max_depth\":[2,3,5],\n",
    "                \"max_features\":[\"log2\", \"sqrt\",],\n",
    "                \"criterion\": [\"friedman_mse\"]}\n",
    "\n",
    "# run grid search\n",
    "grid_search4 = GridSearchCV(gb4, param_grid=param_grid4, n_jobs=-1)\n",
    "\n",
    "grid_search4.fit(X_scaled, y_train_res)"
   ]
  },
  {
   "cell_type": "code",
   "execution_count": 198,
   "metadata": {},
   "outputs": [
    {
     "data": {
      "text/plain": [
       "GradientBoostingClassifier(criterion='friedman_mse', init=None,\n",
       "              learning_rate=0.6, loss='deviance', max_depth=5,\n",
       "              max_features='log2', max_leaf_nodes=None,\n",
       "              min_impurity_decrease=0.0, min_impurity_split=None,\n",
       "              min_samples_leaf=1, min_samples_split=2,\n",
       "              min_weight_fraction_leaf=0.0, n_estimators=500,\n",
       "              n_iter_no_change=None, presort='auto', random_state=None,\n",
       "              subsample=1.0, tol=0.0001, validation_fraction=0.1,\n",
       "              verbose=0, warm_start=False)"
      ]
     },
     "execution_count": 198,
     "metadata": {},
     "output_type": "execute_result"
    }
   ],
   "source": [
    "gb_best = grid_search4.best_estimator_\n",
    "gb_best"
   ]
  },
  {
   "cell_type": "code",
   "execution_count": 199,
   "metadata": {
    "collapsed": true
   },
   "outputs": [],
   "source": [
    "y_pred_gb4 = gb_best.predict(X_test_scaled)"
   ]
  },
  {
   "cell_type": "code",
   "execution_count": 200,
   "metadata": {
    "collapsed": true
   },
   "outputs": [],
   "source": [
    "precision_gb4, recall_gb4, accuracy_gb4, matrix_gb4 = util.metric(y_test, y_pred_gb4)"
   ]
  },
  {
   "cell_type": "code",
   "execution_count": 201,
   "metadata": {},
   "outputs": [
    {
     "name": "stdout",
     "output_type": "stream",
     "text": [
      "Recall: 0.86\n",
      "Precision: 0.94\n"
     ]
    }
   ],
   "source": [
    "print(\"Recall: {}\".format(round(recall_gb4,2)))\n",
    "print(\"Precision: {}\".format(round(precision_gb4,2)))"
   ]
  },
  {
   "cell_type": "code",
   "execution_count": 205,
   "metadata": {},
   "outputs": [],
   "source": [
    "#predicted probabilities\n",
    "scores4 = gb_best.predict_proba(X_test_scaled)"
   ]
  },
  {
   "cell_type": "code",
   "execution_count": 206,
   "metadata": {},
   "outputs": [
    {
     "data": {
      "image/png": "[encoded data removed]",
      "text/plain": [
       "<matplotlib.figure.Figure at 0x1a1fb01128>"
      ]
     },
     "metadata": {},
     "output_type": "display_data"
    }
   ],
   "source": [
    "_=skplt.metrics.plot_roc(y_test, scores4, \n",
    "                         classes_to_plot=[1], plot_micro=False, \n",
    "                         plot_macro=False, figsize=(10,8))"
   ]
  },
  {
   "cell_type": "code",
   "execution_count": null,
   "metadata": {
    "collapsed": true
   },
   "outputs": [],
   "source": []
  },
  {
   "cell_type": "code",
   "execution_count": null,
   "metadata": {
    "collapsed": true
   },
   "outputs": [],
   "source": []
  },
  {
   "cell_type": "code",
   "execution_count": 207,
   "metadata": {
    "collapsed": true
   },
   "outputs": [],
   "source": [
    "# Another candidate that has potential of a good classification for this problem is \n",
    "# the Support Vector Classifier"
   ]
  },
  {
   "cell_type": "markdown",
   "metadata": {},
   "source": [
    "### Support Vector Classifier"
   ]
  },
  {
   "cell_type": "code",
   "execution_count": 208,
   "metadata": {},
   "outputs": [],
   "source": [
    "pipeline = Pipeline([('scaler', StandardScaler()),\n",
    "                        ('svc', SVC(kernel='rbf'))])\n"
   ]
  },
  {
   "cell_type": "code",
   "execution_count": 209,
   "metadata": {},
   "outputs": [
    {
     "data": {
      "text/plain": [
       "Pipeline(memory=None,\n",
       "     steps=[('scaler', StandardScaler(copy=True, with_mean=True, with_std=True)), ('svc', SVC(C=1.0, cache_size=200, class_weight=None, coef0=0.0,\n",
       "  decision_function_shape='ovr', degree=3, gamma='auto_deprecated',\n",
       "  kernel='rbf', max_iter=-1, probability=False, random_state=None,\n",
       "  shrinking=True, tol=0.001, verbose=False))])"
      ]
     },
     "execution_count": 209,
     "metadata": {},
     "output_type": "execute_result"
    }
   ],
   "source": [
    "pipeline.fit(X_train_res, y_train_res)"
   ]
  },
  {
   "cell_type": "code",
   "execution_count": 210,
   "metadata": {
    "collapsed": true
   },
   "outputs": [],
   "source": [
    "y_pred_svc = pipeline.predict(X_test)"
   ]
  },
  {
   "cell_type": "code",
   "execution_count": 211,
   "metadata": {
    "collapsed": true
   },
   "outputs": [],
   "source": [
    "precision_svc, recall_svc, accuracy_svc, matrix_svc = util.metric(y_test, y_pred_svc)"
   ]
  },
  {
   "cell_type": "code",
   "execution_count": 53,
   "metadata": {},
   "outputs": [
    {
     "data": {
      "text/plain": [
       "array([[1865,   34],\n",
       "       [ 105, 7804]])"
      ]
     },
     "execution_count": 53,
     "metadata": {},
     "output_type": "execute_result"
    }
   ],
   "source": [
    "# Confusion matrix\n",
    "matrix_svc"
   ]
  },
  {
   "cell_type": "code",
   "execution_count": 54,
   "metadata": {},
   "outputs": [
    {
     "name": "stdout",
     "output_type": "stream",
     "text": [
      "Recall: 0.95\n",
      "Precision: 0.98\n"
     ]
    }
   ],
   "source": [
    "print(\"Recall: {}\".format(round(recall_svc,2)))\n",
    "print(\"Precision: {}\".format(round(precision_svc,2)))"
   ]
  },
  {
   "cell_type": "code",
   "execution_count": null,
   "metadata": {
    "collapsed": true
   },
   "outputs": [],
   "source": []
  },
  {
   "cell_type": "code",
   "execution_count": null,
   "metadata": {
    "collapsed": true
   },
   "outputs": [],
   "source": []
  }
 ],
 "metadata": {
  "kernelspec": {
   "display_name": "Python 3",
   "language": "python",
   "name": "python3"
  },
  "language_info": {
   "codemirror_mode": {
    "name": "ipython",
    "version": 3
   },
   "file_extension": ".py",
   "mimetype": "text/x-python",
   "name": "python",
   "nbconvert_exporter": "python",
   "pygments_lexer": "ipython3",
   "version": "3.6.3"
  }
 },
 "nbformat": 4,
 "nbformat_minor": 2
}
